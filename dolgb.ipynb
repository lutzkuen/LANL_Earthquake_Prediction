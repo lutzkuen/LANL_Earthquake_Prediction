{
 "cells": [
  {
   "cell_type": "code",
   "execution_count": 1,
   "metadata": {},
   "outputs": [],
   "source": [
    "import lightgbm as lgb\n",
    "import pandas as pd\n",
    "import math\n",
    "import numpy as np\n",
    "import pickle\n",
    "\n",
    "from sklearn.model_selection import train_test_split\n",
    "\n",
    "df = pd.read_csv('../data/features.csv')\n",
    "\n",
    "target = df['target']\n",
    "features = df.drop('target', axis=1)"
   ]
  },
  {
   "cell_type": "code",
   "execution_count": 2,
   "metadata": {},
   "outputs": [
    {
     "name": "stdout",
     "output_type": "stream",
     "text": [
      "Training until validation scores don't improve for 100 rounds.\n",
      "[10]\tvalid_0's l1: 5.99345\n",
      "[20]\tvalid_0's l1: 5.99345\n",
      "[30]\tvalid_0's l1: 5.99345\n",
      "[40]\tvalid_0's l1: 5.99345\n",
      "[50]\tvalid_0's l1: 5.99345\n",
      "[60]\tvalid_0's l1: 5.99345\n",
      "[70]\tvalid_0's l1: 5.99345\n",
      "[80]\tvalid_0's l1: 5.99345\n",
      "[90]\tvalid_0's l1: 5.99345\n",
      "[100]\tvalid_0's l1: 5.99345\n",
      "Early stopping, best iteration is:\n",
      "[1]\tvalid_0's l1: 5.99345\n"
     ]
    }
   ],
   "source": [
    "params = {\n",
    "    'boosting_type': 'gbdt',\n",
    "    'objective': 'regression',\n",
    "    'metric': 'mae',\n",
    "    'learning_rate': 0.001\n",
    "}\n",
    "\n",
    "x_train, x_valid, y_train, y_valid = train_test_split(features, target, test_size=0.2)\n",
    "\n",
    "d_train = lgb.Dataset(x_train, label=y_train)\n",
    "d_valid = lgb.Dataset(x_valid, label=y_valid)\n",
    "n_estimators = 10000\n",
    "watchlist = [d_valid ]\n",
    "estimator = lgb.train(params, d_train, n_estimators, watchlist, verbose_eval=10, early_stopping_rounds=100)\n",
    "\n",
    "pickle.dump(estimator, open('../data/estimator.lgb', 'wb'))"
   ]
  },
  {
   "cell_type": "code",
   "execution_count": 3,
   "metadata": {},
   "outputs": [
    {
     "name": "stderr",
     "output_type": "stream",
     "text": [
      "C:\\Users\\lutz.kuenneke\\AppData\\Roaming\\Python\\Python37\\site-packages\\lightgbm\\basic.py:478: UserWarning: Converting data to scipy sparse matrix.\n",
      "  warnings.warn('Converting data to scipy sparse matrix.')\n"
     ]
    }
   ],
   "source": [
    "df_test = pd.read_csv('../data/test_features.csv')\n",
    "pred_all = []\n",
    "\n",
    "for segid in np.unique(df_test['segid']):\n",
    "    df_segid = df_test[df_test['segid'] == segid].drop('segid', axis=1)\n",
    "    predictions = []\n",
    "    for i in range(df_segid.shape[0]):\n",
    "        x = df_segid.iloc[i, :]\n",
    "        pred = estimator.predict(x)\n",
    "        predictions.append(pred)\n",
    "    pred_all.append({'seg_id': segid, 'time_to_failure': np.mean(predictions)})\n",
    "pred_df = pd.DataFrame(pred_all)\n",
    "pred_df.to_csv('prediction.csv', index=False)"
   ]
  }
 ],
 "metadata": {
  "kernelspec": {
   "display_name": "Python 3",
   "language": "python",
   "name": "python3"
  },
  "language_info": {
   "codemirror_mode": {
    "name": "ipython",
    "version": 3
   },
   "file_extension": ".py",
   "mimetype": "text/x-python",
   "name": "python",
   "nbconvert_exporter": "python",
   "pygments_lexer": "ipython3",
   "version": "3.7.1"
  }
 },
 "nbformat": 4,
 "nbformat_minor": 2
}
